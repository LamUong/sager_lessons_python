{
 "cells": [
  {
   "cell_type": "code",
   "execution_count": 1,
   "metadata": {},
   "outputs": [
    {
     "name": "stdout",
     "output_type": "stream",
     "text": [
      "Hello World!\n"
     ]
    }
   ],
   "source": [
    "'''\n",
    "Hello world\n",
    "'''\n",
    "print(\"Hello World!\")"
   ]
  },
  {
   "cell_type": "code",
   "execution_count": 13,
   "metadata": {},
   "outputs": [
    {
     "name": "stdout",
     "output_type": "stream",
     "text": [
      "lam\n",
      "Your name is lam\n"
     ]
    }
   ],
   "source": [
    "'''\n",
    "Input\n",
    "There are several ways to present the output of a program; \n",
    "data can be printed in a human-readable form, or written \n",
    "to a file for future use. This chapter will discuss some of the possibilities.\n",
    "'''\n",
    "your_input = input()\n"
   ]
  },
  {
   "cell_type": "code",
   "execution_count": 14,
   "metadata": {},
   "outputs": [
    {
     "name": "stdout",
     "output_type": "stream",
     "text": [
      "Your name is lam\n"
     ]
    }
   ],
   "source": [
    "'''\n",
    "Output using the print() function\n",
    "To output your data to the screen, use the print() function. Y\n",
    "ou can write print(argument) and this will print the argument \n",
    "in the next line when you press the ENTER key.\n",
    "'''\n",
    "print(\"Your name is \" +your_input)"
   ]
  },
  {
   "cell_type": "code",
   "execution_count": 10,
   "metadata": {},
   "outputs": [
    {
     "name": "stdout",
     "output_type": "stream",
     "text": [
      "300\n",
      "hahaha\n"
     ]
    }
   ],
   "source": [
    "'''\n",
    "Think of a variable as a name attached to a particular object. \n",
    "In Python, variables need not be declared or defined in advance,\n",
    "as is the case in many other programming languages. \n",
    "To create a variable, you just assign it a value and then start using it.\n",
    "Assignment is done with a single equals sign (=):\n",
    "'''\n",
    "n = 300\n",
    "print(n)\n",
    "'''\n",
    "Later, if you change the value of n and use it again, the new value will \n",
    "be substituted instead:\n",
    "'''\n",
    "n = \"hahaha\"\n",
    "print(n)"
   ]
  },
  {
   "cell_type": "code",
   "execution_count": null,
   "metadata": {
    "collapsed": true
   },
   "outputs": [],
   "source": [
    "'''\n",
    "Officially, variable names in Python can be any length \n",
    "and can consist of uppercase and lowercase letters (A-Z, a-z), \n",
    "digits (0-9), and the underscore character (_). \n",
    "An additional restriction is that, although a variable name can contain digits, \n",
    "the first character of a variable name cannot be a digit.\n",
    "'''\n",
    "1mkdsm # not valid\n",
    "s@a@@ # not valid\n",
    "hi_i_am_lam # valid but bad naming practice - does not make sense"
   ]
  },
  {
   "cell_type": "code",
   "execution_count": 8,
   "metadata": {},
   "outputs": [],
   "source": [
    "print(300)\n",
    "'''\n",
    "When presented with the statement print(300), the interpreter does the following:\n",
    "\n",
    "Creates an integer object\n",
    "Gives it the value 300\n",
    "Displays it to the console\n",
    "'''"
   ]
  },
  {
   "cell_type": "code",
   "execution_count": 9,
   "metadata": {},
   "outputs": [
    {
     "data": {
      "text/plain": [
       "'\\nFirst an integer object 300 is created,\\nthen variable n is point to that object\\nn -> 300\\n'"
      ]
     },
     "execution_count": 9,
     "metadata": {},
     "output_type": "execute_result"
    }
   ],
   "source": [
    "n = 300\n",
    "'''\n",
    "First an integer object 300 is created,\n",
    "then variable n is point to that object\n",
    "n -> 300\n",
    "'''"
   ]
  },
  {
   "cell_type": "code",
   "execution_count": null,
   "metadata": {
    "collapsed": true
   },
   "outputs": [],
   "source": [
    "m = n\n",
    "'''\n",
    "What happens when it is executed? \n",
    "Python does not create another object.\n",
    "It simply creates a new symbolic name or reference, m, \n",
    "which points to the same object that n points to.\n",
    "n -> 300 <- m \n",
    "'''"
   ]
  },
  {
   "cell_type": "code",
   "execution_count": 11,
   "metadata": {},
   "outputs": [
    {
     "data": {
      "text/plain": [
       "'\\nn -> 300\\n     400 <- m\\na new integer object of 400 is created, and m becomes\\na reference to it\\n'"
      ]
     },
     "execution_count": 11,
     "metadata": {},
     "output_type": "execute_result"
    }
   ],
   "source": [
    "m = 400\n",
    "'''\n",
    "n -> 300\n",
    "     400 <- m\n",
    "a new integer object of 400 is created, and m becomes\n",
    "a reference to it\n",
    "'''"
   ]
  },
  {
   "cell_type": "code",
   "execution_count": 32,
   "metadata": {},
   "outputs": [
    {
     "data": {
      "text/plain": [
       "'\\nArithmetic Operators\\n+, - , * , /, **, %\\nfor int and float\\n'"
      ]
     },
     "execution_count": 32,
     "metadata": {},
     "output_type": "execute_result"
    }
   ],
   "source": [
    "'''\n",
    "Data type\n",
    "\n",
    "int\n",
    "float\n",
    "string\n",
    "list\n",
    "tuple\n",
    "dictionary\n",
    "set\n",
    "'''\n",
    "\n",
    "'''\n",
    "Arithmetic Operators\n",
    "+, - , * , /, **, %\n",
    "for int and float\n",
    "'''"
   ]
  },
  {
   "cell_type": "code",
   "execution_count": 33,
   "metadata": {},
   "outputs": [
    {
     "data": {
      "text/plain": [
       "(3.0, 3)"
      ]
     },
     "execution_count": 33,
     "metadata": {},
     "output_type": "execute_result"
    }
   ],
   "source": [
    "3.0, 3 #float vs int, \n",
    "3.0+3, 3+3# float + int vs int + int"
   ]
  },
  {
   "cell_type": "code",
   "execution_count": 36,
   "metadata": {},
   "outputs": [
    {
     "data": {
      "text/plain": [
       "0"
      ]
     },
     "execution_count": 36,
     "metadata": {},
     "output_type": "execute_result"
    }
   ],
   "source": [
    "3-3, 3*3.0, 10/3, 3**3, 10%3, 2.5+3, 4.3%2"
   ]
  },
  {
   "cell_type": "code",
   "execution_count": 48,
   "metadata": {},
   "outputs": [
    {
     "data": {
      "text/plain": [
       "(True, False, True)"
      ]
     },
     "execution_count": 48,
     "metadata": {},
     "output_type": "execute_result"
    }
   ],
   "source": [
    "'''\n",
    "conmparision\n",
    "<, >, =, <=, >=, ==, !=\n",
    "'''\n",
    "3==3.0, 3>=4, 3<=3\n"
   ]
  },
  {
   "cell_type": "code",
   "execution_count": 46,
   "metadata": {},
   "outputs": [
    {
     "ename": "SyntaxError",
     "evalue": "can't assign to literal (<ipython-input-46-7d6616826413>, line 1)",
     "output_type": "error",
     "traceback": [
      "\u001b[0;36m  File \u001b[0;32m\"<ipython-input-46-7d6616826413>\"\u001b[0;36m, line \u001b[0;32m1\u001b[0m\n\u001b[0;31m    3=3 #why this gives an error?\u001b[0m\n\u001b[0m                                 ^\u001b[0m\n\u001b[0;31mSyntaxError\u001b[0m\u001b[0;31m:\u001b[0m can't assign to literal\n"
     ]
    }
   ],
   "source": [
    "3=3 #why this gives an error?"
   ]
  },
  {
   "cell_type": "code",
   "execution_count": 51,
   "metadata": {},
   "outputs": [
    {
     "data": {
      "text/plain": [
       "7"
      ]
     },
     "execution_count": 51,
     "metadata": {},
     "output_type": "execute_result"
    }
   ],
   "source": [
    "'''\n",
    "assignment operators\n",
    "=, +=, -=, *=, /=, **=, %=\n",
    "'''\n",
    "a=7\n",
    "a"
   ]
  },
  {
   "cell_type": "code",
   "execution_count": 52,
   "metadata": {},
   "outputs": [
    {
     "data": {
      "text/plain": [
       "6"
      ]
     },
     "execution_count": 52,
     "metadata": {},
     "output_type": "execute_result"
    }
   ],
   "source": [
    "a-=1\n",
    "a"
   ]
  },
  {
   "cell_type": "code",
   "execution_count": 54,
   "metadata": {},
   "outputs": [
    {
     "data": {
      "text/plain": [
       "24"
      ]
     },
     "execution_count": 54,
     "metadata": {},
     "output_type": "execute_result"
    }
   ],
   "source": [
    "a*=2\n",
    "a"
   ]
  },
  {
   "cell_type": "code",
   "execution_count": 56,
   "metadata": {},
   "outputs": [
    {
     "data": {
      "text/plain": [
       "0"
      ]
     },
     "execution_count": 56,
     "metadata": {},
     "output_type": "execute_result"
    }
   ],
   "source": [
    "a%=3\n",
    "a"
   ]
  },
  {
   "cell_type": "code",
   "execution_count": 77,
   "metadata": {},
   "outputs": [
    {
     "data": {
      "text/plain": [
       "(True, False, False)"
      ]
     },
     "execution_count": 77,
     "metadata": {},
     "output_type": "execute_result"
    }
   ],
   "source": [
    "'''\n",
    "logical operators\n",
    "and, or, not\n",
    "'''\n",
    "True and True, True and False, False and False \n"
   ]
  },
  {
   "cell_type": "code",
   "execution_count": 78,
   "metadata": {},
   "outputs": [
    {
     "data": {
      "text/plain": [
       "(True, True, False)"
      ]
     },
     "execution_count": 78,
     "metadata": {},
     "output_type": "execute_result"
    }
   ],
   "source": [
    "True or True, True or False, False or False"
   ]
  },
  {
   "cell_type": "code",
   "execution_count": 60,
   "metadata": {},
   "outputs": [
    {
     "data": {
      "text/plain": [
       "(False, True)"
      ]
     },
     "execution_count": 60,
     "metadata": {},
     "output_type": "execute_result"
    }
   ],
   "source": [
    "not True, not False"
   ]
  },
  {
   "cell_type": "code",
   "execution_count": 68,
   "metadata": {},
   "outputs": [
    {
     "data": {
      "text/plain": [
       "False"
      ]
     },
     "execution_count": 68,
     "metadata": {},
     "output_type": "execute_result"
    }
   ],
   "source": [
    "True and False or False or False"
   ]
  },
  {
   "cell_type": "code",
   "execution_count": 58,
   "metadata": {},
   "outputs": [
    {
     "data": {
      "text/plain": [
       "False"
      ]
     },
     "execution_count": 58,
     "metadata": {},
     "output_type": "execute_result"
    }
   ],
   "source": [
    "7>7 and 2>-1"
   ]
  },
  {
   "cell_type": "code",
   "execution_count": 69,
   "metadata": {},
   "outputs": [
    {
     "data": {
      "text/plain": [
       "True"
      ]
     },
     "execution_count": 69,
     "metadata": {},
     "output_type": "execute_result"
    }
   ],
   "source": [
    "not(0)"
   ]
  },
  {
   "cell_type": "code",
   "execution_count": 70,
   "metadata": {},
   "outputs": [
    {
     "data": {
      "text/plain": [
       "False"
      ]
     },
     "execution_count": 70,
     "metadata": {},
     "output_type": "execute_result"
    }
   ],
   "source": [
    "not(1)"
   ]
  },
  {
   "cell_type": "code",
   "execution_count": 71,
   "metadata": {},
   "outputs": [
    {
     "data": {
      "text/plain": [
       "True"
      ]
     },
     "execution_count": 71,
     "metadata": {},
     "output_type": "execute_result"
    }
   ],
   "source": [
    "1==True"
   ]
  },
  {
   "cell_type": "code",
   "execution_count": 72,
   "metadata": {},
   "outputs": [
    {
     "data": {
      "text/plain": [
       "True"
      ]
     },
     "execution_count": 72,
     "metadata": {},
     "output_type": "execute_result"
    }
   ],
   "source": [
    "0==False"
   ]
  },
  {
   "cell_type": "code",
   "execution_count": 74,
   "metadata": {},
   "outputs": [
    {
     "name": "stdout",
     "output_type": "stream",
     "text": [
      "e\n",
      "llo\n",
      "Hello, World!\n",
      "13\n",
      "hello, world!\n",
      "HELLO, WORLD!\n",
      "Jello, World!\n",
      "['Hello', ' World!']\n"
     ]
    },
    {
     "ename": "TypeError",
     "evalue": "'str' object does not support item assignment",
     "output_type": "error",
     "traceback": [
      "\u001b[0;31m---------------------------------------------------------------------------\u001b[0m",
      "\u001b[0;31mTypeError\u001b[0m                                 Traceback (most recent call last)",
      "\u001b[0;32m<ipython-input-74-a40cbbdbbbf6>\u001b[0m in \u001b[0;36m<module>\u001b[0;34m()\u001b[0m\n\u001b[1;32m     51\u001b[0m \u001b[0mstring\u001b[0m \u001b[0;32mis\u001b[0m \u001b[0mimmutable\u001b[0m\u001b[0;34m\u001b[0m\u001b[0m\n\u001b[1;32m     52\u001b[0m '''\n\u001b[0;32m---> 53\u001b[0;31m \u001b[0ma\u001b[0m\u001b[0;34m[\u001b[0m\u001b[0;36m1\u001b[0m\u001b[0;34m]\u001b[0m\u001b[0;34m=\u001b[0m\u001b[0;36m2\u001b[0m\u001b[0;34m\u001b[0m\u001b[0m\n\u001b[0m",
      "\u001b[0;31mTypeError\u001b[0m: 'str' object does not support item assignment"
     ]
    }
   ],
   "source": [
    "'''\n",
    "String Literals\n",
    "String literals in python are surrounded by either single quotation marks, \n",
    "or double quotation marks.\n",
    "\n",
    "'hello' is the same as \"hello\".\n",
    "\n",
    "Strings can be output to screen using the print function. For example: print(\"hello\").\n",
    "\n",
    "Like many other popular programming languages, \n",
    "strings in Python are arrays of bytes representing unicode characters. \n",
    "However, Python does not have a character data type, a single character\n",
    "is simply a string with a length of 1. Square brackets can be used to \n",
    "access elements of the string.\n",
    "'''\n",
    "a = \"Hello, World!\"\n",
    "print(a[1])\n",
    "'''\n",
    "Substring. Get the characters from position 2 to position 5 (not included):\n",
    "'''\n",
    "b = \"Hello, World!\"\n",
    "print(b[2:5])\n",
    "'''\n",
    "The strip() method removes any whitespace from the beginning or the end:\n",
    "'''\n",
    "a = \" Hello, World! \"\n",
    "print(a.strip()) # returns \"Hello, World!\"\n",
    "'''\n",
    "The len() method returns the length of a string:\n",
    "'''\n",
    "a = \"Hello, World!\"\n",
    "print(len(a))\n",
    "'''\n",
    "The lower() method returns the string in lower case:\n",
    "'''\n",
    "a = \"Hello, World!\"\n",
    "print(a.lower())\n",
    "\n",
    "###what does this do\n",
    "a = \"Hello, World!\"\n",
    "print(a.upper())\n",
    "\n",
    "###what does this do\n",
    "a = \"Hello, World!\"\n",
    "print(a.replace(\"H\", \"J\"))\n",
    "\n",
    "###what does this do\n",
    "a = \"Hello, World!\"\n",
    "print(a.split(\",\")) # returns ['Hello', ' World!']\n",
    "'''\n",
    "string is immutable\n",
    "'''\n",
    "a[1]=2"
   ]
  },
  {
   "cell_type": "code",
   "execution_count": 75,
   "metadata": {},
   "outputs": [
    {
     "data": {
      "text/plain": [
       "216"
      ]
     },
     "execution_count": 75,
     "metadata": {},
     "output_type": "execute_result"
    }
   ],
   "source": [
    "'''\n",
    "List\n",
    "Python knows a number of compound data types, \n",
    "used to group together other values. The \n",
    "most versatile is the list, which can be written \n",
    "as a list of comma-separated values (items) between \n",
    "square brackets. Lists might contain items of \n",
    "different types, but usually the items all have the same type.\n",
    "'''\n",
    "squares = [1, 4, 9, 16, 25]\n",
    "'''\n",
    "Like strings (and all other built-in sequence type), lists can be indexed and sliced:\n",
    "'''\n",
    "squares[0]\n",
    "'''\n",
    "Negative indexing\n",
    "'''\n",
    "squares[-1]\n",
    "squares[-3:]\n",
    "\n",
    "'''\n",
    "Unlike strings, which are immutable, lists are a mutable type, \n",
    "i.e. it is possible to change their content:\n",
    "'''\n",
    "squares[0]=10\n",
    "'''\n",
    "All slice operations return a new list containing the requested elements.\n",
    "This means that the following slice returns a new (shallow) copy of the list:\n",
    "'''\n",
    "squares[:]\n",
    "'''\n",
    "append\n",
    "and pop\n",
    "'''\n",
    "squares.append(216)\n",
    "squares.pop()"
   ]
  },
  {
   "cell_type": "code",
   "execution_count": 81,
   "metadata": {},
   "outputs": [
    {
     "data": {
      "text/plain": [
       "'20'"
      ]
     },
     "execution_count": 81,
     "metadata": {},
     "output_type": "execute_result"
    }
   ],
   "source": [
    "'''\n",
    "Type conversion python:\n",
    "int(2.0)\n",
    "float(2)\n",
    "int(\"2\")\n",
    "str(2)\n",
    "str(2.0)\n",
    "str(True)\n",
    "\n",
    "assignment and type conversion\n",
    "haha=20\n",
    "str(haha)\n",
    "'''\n",
    "\n"
   ]
  },
  {
   "cell_type": "code",
   "execution_count": 79,
   "metadata": {},
   "outputs": [
    {
     "name": "stdout",
     "output_type": "stream",
     "text": [
      "1,3\n",
      "False\n"
     ]
    }
   ],
   "source": [
    "'''\n",
    "Recap with fun project\n",
    "I am going to give an input that is integer_1 , integer_2\n",
    "print True if integer_1 > integer_2,\n",
    "if not, print False\n",
    "'''\n",
    "string_input = input()\n",
    "a,b = string_input.split(',')\n",
    "print(int(a)>int(b))"
   ]
  },
  {
   "cell_type": "code",
   "execution_count": null,
   "metadata": {
    "collapsed": true
   },
   "outputs": [],
   "source": [
    "'''\n",
    "now I want you to make a tip caculator\n",
    "You just finished eating at a restaurant, and received this bill:\n",
    "\n",
    "Cost of meal: $44.50\n",
    "\n",
    "Restaurant tax: 6.75%\n",
    "\n",
    "Tip: 15%\n",
    "\n",
    "You will have 3 input statements, \n",
    "\n",
    "first one:\n",
    "\n",
    "What is your meal cost?\n",
    "\n",
    "second one:\n",
    "\n",
    "What is the restaurant tax?\n",
    "\n",
    "third one:\n",
    "\n",
    "How much do you want to tip?\n",
    "\n",
    "And your program will print:\n",
    "\n",
    "Your total cost for the meal is .... dollars. \n",
    "'''"
   ]
  }
 ],
 "metadata": {
  "kernelspec": {
   "display_name": "Python 3",
   "language": "python",
   "name": "python3"
  },
  "language_info": {
   "codemirror_mode": {
    "name": "ipython",
    "version": 3
   },
   "file_extension": ".py",
   "mimetype": "text/x-python",
   "name": "python",
   "nbconvert_exporter": "python",
   "pygments_lexer": "ipython3",
   "version": "3.6.3"
  }
 },
 "nbformat": 4,
 "nbformat_minor": 2
}
