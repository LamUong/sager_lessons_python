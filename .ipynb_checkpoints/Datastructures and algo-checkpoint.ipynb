{
 "cells": [
  {
   "cell_type": "code",
   "execution_count": 2,
   "metadata": {},
   "outputs": [
    {
     "data": {
      "text/plain": [
       "('AAA', 'aaa', ['', '', '', ''], 'bbb')"
      ]
     },
     "execution_count": 2,
     "metadata": {},
     "output_type": "execute_result"
    }
   ],
   "source": [
    "string = \"aaa\"\n",
    "string.upper(), string.lower(), string.split('a'), string.replace('a','b')"
   ]
  },
  {
   "cell_type": "code",
   "execution_count": 5,
   "metadata": {},
   "outputs": [
    {
     "data": {
      "text/plain": [
       "([1, 4, 5, 32], 5, None, [1, 32, 4, 2, 2, 3, 4], [2, 4, 32, 1])"
      ]
     },
     "execution_count": 5,
     "metadata": {},
     "output_type": "execute_result"
    }
   ],
   "source": [
    "lis = [1,32,4,5]\n",
    "sorted(lis), lis.pop(), lis.append(2), lis + [2,3,4], lis[::-1], min(lis), max(lis), "
   ]
  },
  {
   "cell_type": "code",
   "execution_count": null,
   "metadata": {
    "collapsed": true
   },
   "outputs": [],
   "source": [
    "#x + [4, 5] gives you a new list assigned to x - x.extend() mutates the original list. \n",
    "'''\n",
    "\n",
    "What is the difference between the list methods append and extend?\n",
    "append adds its argument as a single element to the end of a list. The length of the list itself will increase by one.\n",
    "extend iterates over its argument adding each element to the list, extending the list. The length of the list will increase by however many elements were in the iterable argument.\n",
    "append\n",
    "The list.append method appends an object to the end of the list.\n",
    "\n",
    "my_list.append(object) \n",
    "Whatever the object is, whether a number, a string, another list, or something else, it gets added onto the end of my_list as a single entry on the list.\n",
    "\n",
    ">>> my_list\n",
    "['foo', 'bar']\n",
    ">>> my_list.append('baz')\n",
    ">>> my_list\n",
    "['foo', 'bar', 'baz']\n",
    "So keep in mind that a list is an object. If you append another list onto a list, the first list will be a single object at the end of the list (which may not be what you want):\n",
    "\n",
    ">>> another_list = [1, 2, 3]\n",
    ">>> my_list.append(another_list)\n",
    ">>> my_list\n",
    "['foo', 'bar', 'baz', [1, 2, 3]]\n",
    "                     #^^^^^^^^^--- single item at the end of the list.\n",
    "extend\n",
    "The list.extend method extends a list by appending elements from an iterable:\n",
    "\n",
    "my_list.extend(iterable)\n",
    "So with extend, each element of the iterable gets appended onto the list. For example:\n",
    "\n",
    ">>> my_list\n",
    "['foo', 'bar']\n",
    ">>> another_list = [1, 2, 3]\n",
    ">>> my_list.extend(another_list)\n",
    ">>> my_list\n",
    "['foo', 'bar', 1, 2, 3]\n",
    "Keep in mind that a string is an iterable, so if you extend a list with a string, you'll append each character as you iterate over the string (which may not be what you want):\n",
    "\n",
    ">>> my_list.extend('baz')\n",
    ">>> my_list\n",
    "['foo', 'bar', 1, 2, 3, 'b', 'a', 'z']\n",
    "Operator Overload, __add__ (+) and __iadd__ (+=)\n",
    "Both + and += operators are defined for list. They are semantically similar to extend.\n",
    "\n",
    "my_list + another_list creates a third list in memory, so you can return the result of it, but it requires that the second iterable be a list.\n",
    "\n",
    "my_list += another_list modifies the list in-place (it is the in-place operator, and lists are mutable objects, as we've seen) so it does not create a new list. It also works like extend, in that the second iterable can be any kind of iterable.\n",
    "\n",
    "Don't get confused - my_list = my_list + another_list is not equivalent to += - it gives you a brand new list assigned to my_list.\n",
    "'''"
   ]
  },
  {
   "cell_type": "code",
   "execution_count": 10,
   "metadata": {},
   "outputs": [
    {
     "data": {
      "text/plain": [
       "(8, 20, -1)"
      ]
     },
     "execution_count": 10,
     "metadata": {},
     "output_type": "execute_result"
    }
   ],
   "source": [
    "#str.find(str, beg=0, end=len(string))\n",
    "#!/usr/bin/python\n",
    "\n",
    "str1 = \"this is exam string example....wow!!!\"\n",
    "str2 = \"exam\"\n",
    "\n",
    "str1.find(str2), str1.find(str2, 10), str1.find(str2, 40)"
   ]
  },
  {
   "cell_type": "code",
   "execution_count": 11,
   "metadata": {
    "collapsed": true
   },
   "outputs": [],
   "source": [
    "#int\n",
    "var = 1\n",
    "#float\n",
    "var = 2.0\n",
    "#tuple\n",
    "var = (232,2,21,\"ss\",\"dd\")"
   ]
  },
  {
   "cell_type": "code",
   "execution_count": 16,
   "metadata": {
    "collapsed": true
   },
   "outputs": [],
   "source": [
    "dictionary = {'lam':223,'daa':'sds', (1,2,2):11} #,[2,2]:22}--> error"
   ]
  },
  {
   "cell_type": "code",
   "execution_count": 19,
   "metadata": {},
   "outputs": [
    {
     "name": "stdout",
     "output_type": "stream",
     "text": [
      "lam 223\n",
      "daa sds\n",
      "(1, 2, 2) 11\n"
     ]
    }
   ],
   "source": [
    "for key in dictionary:\n",
    "    print(key, dictionary[key])"
   ]
  },
  {
   "cell_type": "code",
   "execution_count": 23,
   "metadata": {},
   "outputs": [
    {
     "name": "stdout",
     "output_type": "stream",
     "text": [
      "lam 223\n",
      "daa sds\n",
      "(1, 2, 2) 11\n"
     ]
    }
   ],
   "source": [
    "for key,value in dictionary.items():\n",
    "    print(key, value)"
   ]
  },
  {
   "cell_type": "code",
   "execution_count": 24,
   "metadata": {
    "collapsed": true
   },
   "outputs": [],
   "source": [
    "#generator memory efficient for stream\n",
    "def PowTwoGen(max = 0):\n",
    "    n = 0\n",
    "    while n < max:\n",
    "        yield 2 ** n\n",
    "        n += 1"
   ]
  },
  {
   "cell_type": "code",
   "execution_count": 1,
   "metadata": {},
   "outputs": [
    {
     "data": {
      "text/plain": [
       "0"
      ]
     },
     "execution_count": 1,
     "metadata": {},
     "output_type": "execute_result"
    }
   ],
   "source": [
    "#stack , queue and deque python\n",
    "from collections import deque\n",
    "\n",
    "q = deque()\n",
    "q.appendleft('2')\n",
    "q.pop()\n",
    "\n",
    "s = deque()\n",
    "s.append('2')\n",
    "s.pop()\n",
    "len(q)\n",
    "len(s)"
   ]
  },
  {
   "cell_type": "code",
   "execution_count": 13,
   "metadata": {},
   "outputs": [
    {
     "name": "stdout",
     "output_type": "stream",
     "text": [
      "a A\n",
      "b B\n",
      "c C\n",
      "d D\n",
      "e E\n"
     ]
    }
   ],
   "source": [
    "\n",
    "d = collections.OrderedDict()\n",
    "d['a'] = 'A'\n",
    "d['b'] = 'B'\n",
    "d['c'] = 'C'\n",
    "d['d'] = 'D'\n",
    "d['e'] = 'E'\n",
    "\n",
    "for k, v in d.items():\n",
    "    print(k, v)"
   ]
  },
  {
   "cell_type": "code",
   "execution_count": 14,
   "metadata": {},
   "outputs": [
    {
     "data": {
      "text/plain": [
       "('e', 'E')"
      ]
     },
     "execution_count": 14,
     "metadata": {},
     "output_type": "execute_result"
    }
   ],
   "source": [
    "d.popitem(last=True)"
   ]
  },
  {
   "cell_type": "code",
   "execution_count": 15,
   "metadata": {},
   "outputs": [
    {
     "data": {
      "text/plain": [
       "('a', 'A')"
      ]
     },
     "execution_count": 15,
     "metadata": {},
     "output_type": "execute_result"
    }
   ],
   "source": [
    "d.popitem(last=False)"
   ]
  },
  {
   "cell_type": "code",
   "execution_count": 17,
   "metadata": {},
   "outputs": [
    {
     "data": {
      "text/plain": [
       "[1, 1, 2, 4, 6]"
      ]
     },
     "execution_count": 17,
     "metadata": {},
     "output_type": "execute_result"
    }
   ],
   "source": [
    "l  = [2,1,4,6,1]\n",
    "sorted(l)"
   ]
  },
  {
   "cell_type": "code",
   "execution_count": 19,
   "metadata": {},
   "outputs": [
    {
     "data": {
      "text/plain": [
       "[(5, 1), (8, 1), (1, 2)]"
      ]
     },
     "execution_count": 19,
     "metadata": {},
     "output_type": "execute_result"
    }
   ],
   "source": [
    "l = [(1,2),(5,1),(8,1)]\n",
    "sorted(l, key = lambda x:x[1])"
   ]
  },
  {
   "cell_type": "code",
   "execution_count": 23,
   "metadata": {},
   "outputs": [
    {
     "name": "stdout",
     "output_type": "stream",
     "text": [
      "Following is Breadth First Traversal (starting from vertex 2)\n",
      "2 3 0 1 "
     ]
    }
   ],
   "source": [
    "from collections import deque\n",
    "from collections import defaultdict\n",
    "\n",
    "class Graph: \n",
    "  \n",
    "    # Constructor \n",
    "    def __init__(self): \n",
    "        self.graph = defaultdict(list) \n",
    "  \n",
    "    def addEdge(self,u,v): \n",
    "        self.graph[u].append(v) \n",
    "  \n",
    "    def BFS(self, s):   \n",
    "        visited = [False] * (len(self.graph)) \n",
    "        queue = deque() \n",
    "        queue.appendleft(s) \n",
    "        visited[s] = True\n",
    "        while queue: \n",
    "            s = queue.pop() \n",
    "            print(s, end = \" \") \n",
    "            for i in self.graph[s]: \n",
    "                if visited[i] == False: \n",
    "                    queue.appendleft(i) \n",
    "                    visited[i] = True\n",
    "    def DFS(self, s):   \n",
    "        visited = [False] * (len(self.graph)) \n",
    "        stack = deque() \n",
    "        stack.append(s) \n",
    "        visited[s] = True\n",
    "        while stack: \n",
    "            s = stack.pop() \n",
    "            print(s, end = \" \") \n",
    "            for i in self.graph[s]: \n",
    "                if visited[i] == False: \n",
    "                    stack.append(i) \n",
    "                    visited[i] = True\n",
    "  \n",
    "# Driver code \n",
    "  \n",
    "# Create a graph given in \n",
    "# the above diagram \n",
    "g = Graph() \n",
    "g.addEdge(0, 1) \n",
    "g.addEdge(0, 2) \n",
    "g.addEdge(1, 2) \n",
    "g.addEdge(2, 0) \n",
    "g.addEdge(2, 3) \n",
    "g.addEdge(3, 3) \n",
    "  \n",
    "print (\"Following is Breadth First Traversal\"\n",
    "                  \" (starting from vertex 2)\") \n",
    "g.BFS(2) \n",
    "  \n",
    "# This code is contributed by Neelam Yadav "
   ]
  },
  {
   "cell_type": "code",
   "execution_count": null,
   "metadata": {
    "collapsed": true
   },
   "outputs": [],
   "source": []
  }
 ],
 "metadata": {
  "kernelspec": {
   "display_name": "Python 3",
   "language": "python",
   "name": "python3"
  },
  "language_info": {
   "codemirror_mode": {
    "name": "ipython",
    "version": 3
   },
   "file_extension": ".py",
   "mimetype": "text/x-python",
   "name": "python",
   "nbconvert_exporter": "python",
   "pygments_lexer": "ipython3",
   "version": "3.6.3"
  }
 },
 "nbformat": 4,
 "nbformat_minor": 2
}
