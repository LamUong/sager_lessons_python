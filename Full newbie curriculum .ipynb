{
 "cells": [
  {
   "cell_type": "markdown",
   "metadata": {},
   "source": [
    "\n",
    "# Hello World!\n",
    "\n",
    "If programming is the act of teaching a computer to have a conversation with a user, \n",
    "it would be most useful to first teach the computer how to speak. In Python, this is \n",
    "accomplished with the print statement.\n",
    "\n",
    "```python\n",
    "print(\"Hello, world!\")\n",
    "print(\"Water—there is not a drop of water there! Were Niagara but a cataract of sand,\n",
    "would you travel your thousand miles to see it?\")\n",
    "```\n",
    "\n",
    "A print statement is the easiest way to get your Python program to communicate with you. \n",
    "Being able to command this communication will be one of the most valuable tools in your \n",
    "programming toolbox.\n",
    "\n"
   ]
  },
  {
   "cell_type": "markdown",
   "metadata": {},
   "source": [
    "# PYTHON SYNTAX - Print Statements\n",
    "There are two different Python versions. Both Python 2 and Python 3 are used throughout the globe. \n",
    "The most significant difference between the two is how you write a print statement. In Python 3,\n",
    "print has parentheses.\n",
    "\n",
    "```python\n",
    "print(\"Hello World!\")\n",
    "print(\"Deep into distant woodlands winds a mazy way, reaching to overlapping spurs of mountains \n",
    "bathed in their hill-side blue.\")\n",
    "```"
   ]
  },
  {
   "cell_type": "markdown",
   "metadata": {},
   "source": [
    "\n",
    "# Strings\n",
    "When printing things in Python, we are supplying a text block that we want to be printed. \n",
    "Text in Python is considered a specific type of data called a string. A string, so named \n",
    "because they're a series of letters, numbers, or symbols connected in order — as if threaded \n",
    "together by string. Strings can be defined in different ways:\n",
    "\n",
    "```python\n",
    "print \"This is a good string\"\n",
    "print 'You can use single quotes or double quotes for a string'\n",
    "```\n",
    "\n",
    "Above we printed two things that are strings and then attempted to print two things that \n",
    "are not strings. While double-quotes (\") and single-quotes (') are both acceptable ways \n",
    "to define a string, a string needs to be opened and closed by the same type of quote mark.\n",
    "\n",
    "We can combine multiple strings using +, like so:\n",
    "\n",
    "```python\n",
    "print(\"This is \" + \"a good string\")\n",
    "```\n",
    "\n",
    "This code will print out \"This is a good string\".\n",
    "\n",
    "## Instructions\n",
    "1.\n",
    "Try adding your name to the print statement with the + operator \n",
    "so that this Python program prints \"Hello [your_name]\"\n"
   ]
  },
  {
   "cell_type": "code",
   "execution_count": null,
   "metadata": {},
   "outputs": [],
   "source": [
    "print(\"Hello \")\n"
   ]
  },
  {
   "cell_type": "markdown",
   "metadata": {},
   "source": [
    "\n",
    "# Handling Errors\n",
    "As we get more familiar with the Python programming language, \n",
    "we run into errors and exceptions. These are complaints that \n",
    "Python makes when it doesn't understand what you want it to do. \n",
    "Everyone runs into these issues, so it is a good habit to read \n",
    "and understand them. Here are some common errors that we might run into when printing strings:\n",
    "\n",
    "```python\n",
    "print \"Mismatched quotes will cause a SyntaxError'\n",
    "print Without quotes will cause a NameError\n",
    "```\n",
    "\n",
    "If the quotes are mismatched Python will notice this and inform you \n",
    "that your code has an error in its syntax because the line ended (called an EOL)\n",
    "before the double-quote that was supposed to close the string appeared. \n",
    "The program will abruptly stop running with the following message:\n",
    "\n",
    "```python\n",
    "SyntaxError: EOL while scanning a string literal\n",
    "```\n",
    "This means that a string wasn't closed, or wasn't closed with the same quote-character that started it.\n",
    "\n",
    "Another issue you might run into is attempting to create a string without quotes at all. \n",
    "Python treats words not in quotes as commands, like the print statement. \n",
    "If it fails to recognize these words as defined (in Python or by your program elsewhere) \n",
    "Python will complain the code has a NameError. This means that Python found what it thinks \n",
    "is a command, but doesn't know what it means because it's not defined anywhere.\n",
    "\n",
    "## Instructions\n",
    "1.\n",
    "We've written two print statements that will raise errors. One has mismatched quotes and the other has no quotes at all.\n",
    "\n",
    "Fix the two print statements to successfully debug the program!\n",
    "'''"
   ]
  },
  {
   "cell_type": "code",
   "execution_count": null,
   "metadata": {
    "collapsed": true
   },
   "outputs": [],
   "source": [
    "print(\"How do you make a hot dog stand?')\n",
    "print(You take away its chair!)"
   ]
  },
  {
   "cell_type": "markdown",
   "metadata": {},
   "source": [
    "\n",
    "# Variables\n",
    "In Python, and when programming in general, we need to build systems for dealing with data \n",
    "that changes over time. That data could be the location of a plane, or the time of day, or \n",
    "the television show you're currently watching. The only important thing is that it may \n",
    "be different at different times. Python uses variables to define things that are subject to change.\n",
    "\n",
    "```python\n",
    "greeting_message = \"Welcome to Codecademy!\"\n",
    "current_excercise = 5\n",
    "```\n",
    "\n",
    "In the above example, we defined a variable called greeting_message and set it equal to \n",
    "the string \"Welcome to Codecademy!\". It also defined a variable called current_exercise \n",
    "and set it equal to the number 5.\n",
    "\n",
    "# Instructions\n",
    "1.\n",
    "Create a variable called todays_date and assign a string value that will represent today's date to that variable.\n"
   ]
  },
  {
   "cell_type": "code",
   "execution_count": null,
   "metadata": {
    "collapsed": true
   },
   "outputs": [],
   "source": [
    "todays_date = "
   ]
  },
  {
   "cell_type": "markdown",
   "metadata": {},
   "source": [
    "\n",
    "# Arithmetic\n",
    "One thing computers are capable of doing exceptionally well is performing arithmetic. \n",
    "Addition, subtraction, multiplication, division, and other numeric calculations are \n",
    "easy to do in most programming languages, and Python is no exception. Some examples:\n",
    "\n",
    "```python\n",
    "mirthful_addition = 12381 + 91817\n",
    "amazing_subtraction = 981 - 312\n",
    "trippy_multiplication = 38 * 902\n",
    "happy_division = 540 / 45\n",
    "sassy_combinations = 129 * 1345 + 120 / 6 - 12\n",
    "```\n",
    "\n",
    "Above are a number of arithmetic operations, each assigned to a variable. The variable\n",
    "will hold the final result of each operation. Combinations of arithmetical operators \n",
    "follow the usual order of operations.\n",
    "\n",
    "Python also offers a companion to division called the modulo operator. The modulo operator \n",
    "is indicated by % and returns the remainder after division is performed.\n",
    "\n",
    "```python\n",
    "is_this_number_odd = 15 % 2\n",
    "is_this_number_divisible_by_seven = 133 % 7\n",
    "```\n",
    "\n",
    "In the above code block, we use the modulo operator to find the remainder of 15 divided by 2. \n",
    "Since 15 is an odd number the remainder is 1.\n",
    "\n",
    "We also check the remainder of 133 / 7. Since 133 divided by 7 has no remainder, 133 % 7 evaluates to 0.\n",
    "\n",
    "# Instructions\n",
    "1.\n",
    "Multiply two numbers together and assign the result to a variable called product.\n",
    "2.\n",
    "What is the remainder when 1398 is divided by 11? Save the results in a variable called remainder.\n"
   ]
  },
  {
   "cell_type": "code",
   "execution_count": null,
   "metadata": {
    "collapsed": true
   },
   "outputs": [],
   "source": [
    "'''\n",
    "Updating Variables\n",
    "Changing the contents of a variable is one of the essential operations. \n",
    "As the flow of a program progresses, data should be updated to reflect \n",
    "changes that have happened.\n",
    "\n",
    "\n",
    "fish_in_clarks_pond = 50\n",
    "\n",
    "print \"Catching fish\"\n",
    "\n",
    "number_of_fish_caught = 10\n",
    "fish_in_clarks_pond = fish_in_clarks_pond - number_of_fish_caught\n",
    "\n",
    "\n",
    "In the above example, we start with 50 fish in a local pond. After catching \n",
    "10 fish, we update the number of fish in the pond to be the original number \n",
    "of fish in the pond minus the number of fish caught. At the end of this \n",
    "code block, the variable fish_in_clarks_pond is equal to 40.\n",
    "\n",
    "Updating a variable by adding or subtracting a number to the original \n",
    "contents of the variable has its own shorthand to make it faster and easier to read.\n",
    "\n",
    "money_in_wallet = 40\n",
    "sandwich_price = 7.50\n",
    "sales_tax = .08 * sandwich_price\n",
    "\n",
    "sandwich_price += sales_tax\n",
    "money_in_wallet -= sandwich_price\n",
    "\n",
    "\n",
    "In the above example, we use the price of a sandwich to calculate sales tax. \n",
    "After calculating the tax we add it to the total price of the sandwich. Finally, \n",
    "we complete the transaction by reducing our money_in_wallet by the cost of the sandwich (with tax).\n",
    "\n",
    "Instructions\n",
    "1.\n",
    "We're trying to figure out how much it rained in the past year! \n",
    "Update the annual_rainfall variable to include the values from September to December.\n",
    "'''"
   ]
  },
  {
   "cell_type": "code",
   "execution_count": null,
   "metadata": {
    "collapsed": true
   },
   "outputs": [],
   "source": [
    "january_to_june_rainfall = 1.93 + 0.71 + 3.53 + 3.41 + 3.69 + 4.50\n",
    "annual_rainfall = january_to_june_rainfall\n",
    "\n",
    "july_rainfall = 1.05\n",
    "annual_rainfall += july_rainfall\n",
    "\n",
    "august_rainfall = 4.91\n",
    "annual_rainfall += august_rainfall\n",
    "\n",
    "september_rainfall = 5.16\n",
    "october_rainfall = 7.20\n",
    "november_rainfall = 5.06\n",
    "december_rainfall = 4.06\n"
   ]
  },
  {
   "cell_type": "code",
   "execution_count": null,
   "metadata": {},
   "outputs": [],
   "source": [
    "'''\n",
    "PYTHON SYNTAX\n",
    "Comments\n",
    "Most of the time, code should be written in such a way that it is easy to understand on its own. \n",
    "However, if you want to include a piece of information to explain a part of your code, you can \n",
    "use the # sign. A line of text preceded by a # is called a comment. The machine does not run \n",
    "this code — it is only for humans to read. When you look back at your code later, comments may \n",
    "help you figure out what it was intended to do.\n",
    "\n",
    "# this variable counts how many rows of the spreadsheet we have:\n",
    "row_count = 13\n",
    "Instructions\n",
    "1.\n",
    "Add a comment above the declaration of city_pop with a description of what you think the variable contains.\n",
    "'''"
   ]
  },
  {
   "cell_type": "code",
   "execution_count": null,
   "metadata": {
    "collapsed": true
   },
   "outputs": [],
   "source": [
    "city_name = \"St. Potatosburg\"\n",
    "\n",
    "city_pop = 340000"
   ]
  },
  {
   "cell_type": "code",
   "execution_count": null,
   "metadata": {},
   "outputs": [],
   "source": [
    "'''\n",
    "PYTHON SYNTAX\n",
    "Numbers\n",
    "Variables can also hold numeric values. The simplest kind of number in Python is the integer, \n",
    "which is a whole number with no decimal point:\n",
    "\n",
    "int1 = 1\n",
    "int2 = 10\n",
    "int3 = -5\n",
    "A number with a decimal point is called a float. You can define floats with numbers after \n",
    "the decimal point or by just including a decimal point at the end:\n",
    "\n",
    "float1 = 1.0\n",
    "float2 = 10.\n",
    "float3 = -5.5\n",
    "You can also define a float using scientific notation, with e indicating the power of 10:\n",
    "\n",
    "# this evaluates to 150:\n",
    "float4 = 1.5e2 \n",
    "Instructions\n",
    "1.\n",
    "You are going shopping. Let's make a grocery list so that you can plan your budget.\n",
    "\n",
    "Store the number of cucumbers you want to buy in a variable called cucumbers. Make sure \n",
    "it's at least 1, and that it's the appropriate datatype! The store doesn't sell partial cucumbers.\n",
    "\n",
    "2.\n",
    "Each cucumber costs 3.25 doubloons. Store the price per cucumber in a variable called price_per_cucumber.\n",
    "\n",
    "3.\n",
    "Create a new variable called total_cost which is the product of how many cucumbers you are going to buy and the cost per cucumber.\n",
    "\n",
    "4.\n",
    "Print out total_cost.\n",
    "\n",
    "What datatype is it?\n",
    "'''\n"
   ]
  },
  {
   "cell_type": "code",
   "execution_count": null,
   "metadata": {
    "collapsed": true
   },
   "outputs": [],
   "source": []
  },
  {
   "cell_type": "code",
   "execution_count": null,
   "metadata": {
    "collapsed": true
   },
   "outputs": [],
   "source": [
    "'''\n",
    "PYTHON SYNTAX\n",
    "Two Types of Division\n",
    "In Python 2, when we divide two integers, we get an integer as a result. \n",
    "When the quotient is a whole number, this works fine:\n",
    "\n",
    "quotient = 6/2\n",
    "# the value of quotient is now 3, which makes sense\n",
    "However, if the numbers do not divide evenly, the result of the division \n",
    "is truncated into an integer. In other words, the quotient is rounded down \n",
    "to a whole number. This can be surprising when you expect to receive a decimal \n",
    "and you receive a rounded-down integer:\n",
    "\n",
    "quotient = 7/2\n",
    "# the value of quotient is 3, even though the result of the division here is 3.5\n",
    "To yield a float as the result instead, programmers often change either the numerator \n",
    "or the denominator (or both) to be a float:\n",
    "\n",
    "quotient1 = 7./2\n",
    "# the value of quotient1 is 3.5\n",
    "quotient2 = 7/2.\n",
    "# the value of quotient2 is 3.5\n",
    "quotient3 = 7./2.\n",
    "# the value of quotient3 is 3.5\n",
    "An alternative way is to use the float() method:\n",
    "\n",
    "quotient1 = float(7)/2 \n",
    "# the value of quotient1 is 3.5\n",
    "Instructions\n",
    "1.\n",
    "You have come home from the grocery store with 100 cucumbers to split amongst \n",
    "yourself and your 5 roommates (6 people total).\n",
    "\n",
    "Create a variable cucumbers that holds 100 and num_people that holds 6.\n",
    "\n",
    "2.\n",
    "Create a variable called whole_cucumbers_per_person that is the integer result \n",
    "of dividing cucumbers by num_people.\n",
    "\n",
    "Print whole_cucumbers_per_person to the console.\n",
    "\n",
    "3.\n",
    "You realize that the numbers don't divide evenly and you don't want to throw \n",
    "out the remaining cucumbers. Create a variable called float_cucumbers_per_person\n",
    "that holds the float result of dividing cucumbers by num_people.\n",
    "\n",
    "Print float_cucumbers_per_person to the console.\n",
    "'''"
   ]
  },
  {
   "cell_type": "code",
   "execution_count": null,
   "metadata": {
    "collapsed": true
   },
   "outputs": [],
   "source": []
  },
  {
   "cell_type": "code",
   "execution_count": null,
   "metadata": {
    "collapsed": true
   },
   "outputs": [],
   "source": [
    "'''\n",
    "PYTHON SYNTAX\n",
    "Multi-line Strings\n",
    "We have seen how to define a string with single quotes and with double quotes. \n",
    "If we want a string to span multiple lines, we can also use triple quotes:\n",
    "\n",
    "address_string = \"\"\"136 Whowho Rd\n",
    "Apt 7\n",
    "Whosville, WZ 44494\"\"\"\n",
    "This address spans multiple lines, and is still contained in one variable, address_string.\n",
    "\n",
    "When a string like this is not assigned to a variable, it works as a multi-line comment. \n",
    "This can be helpful as your code gets more complex:\n",
    "\n",
    "\n",
    "\"\"\"The following piece of code does the following steps:\n",
    "takes in some input\n",
    "does An Important Calculation\n",
    "returns the modified input and a string that says \"Success!\" or \"Failure...\"\n",
    "\"\"\"\n",
    "... a complicated piece of code here...\n",
    "Instructions\n",
    "1.\n",
    "Create a variable called haiku and store this haiku as a multi-line string:\n",
    "\n",
    "The old pond,\n",
    "A frog jumps in:\n",
    "Plop!\n",
    "'''"
   ]
  },
  {
   "cell_type": "code",
   "execution_count": null,
   "metadata": {
    "collapsed": true
   },
   "outputs": [],
   "source": []
  },
  {
   "cell_type": "code",
   "execution_count": null,
   "metadata": {
    "collapsed": true
   },
   "outputs": [],
   "source": [
    "'''\n",
    "PYTHON SYNTAX\n",
    "Booleans\n",
    "Sometimes we have a need for variables that are either true or false. \n",
    "This datatype, which can only ever take one of two values, is called a \n",
    "boolean. In Python, we define booleans using the keywords True and False:\n",
    "\n",
    "a = True\n",
    "b = False\n",
    "A boolean is actually a special case of an integer. A value of True \n",
    "corresponds to an integer value of 1, and will behave the same. A value o\n",
    "f False corresponds to an integer value of 0.\n",
    "\n",
    "Instructions\n",
    "1.\n",
    "Someone has introduced themselves to you using comments in script.py.\n",
    "\n",
    "Read the comments and then create a variable called age_is_12 and set it to \n",
    "be True or False depending on if this person's age is 12.\n",
    "\n",
    "2.\n",
    "Create a variable called name_is_maria and set it to be True or False \n",
    "depending on if this person's name is Maria.\n",
    "'''"
   ]
  },
  {
   "cell_type": "code",
   "execution_count": null,
   "metadata": {
    "collapsed": true
   },
   "outputs": [],
   "source": [
    "# Hi! I'm Maria and I live in script.py.\n",
    "# I'm an expert Python coder.\n",
    "# I'm 21 years old and I plan to program cool stuff forever."
   ]
  },
  {
   "cell_type": "code",
   "execution_count": null,
   "metadata": {
    "collapsed": true
   },
   "outputs": [],
   "source": [
    "'''\n",
    "PYTHON SYNTAX\n",
    "ValueError\n",
    "Python automatically assigns a variable the appropriate datatype based on the value it is given.\n",
    "A variable with the value 7 is an integer, 7. is a float, \"7\" is a string. Sometimes we will want \n",
    "to convert variables to different datatypes. For example, if we wanted to print out an integer \n",
    "as part of a string, we would want to convert that integer to a string first. We can do that using str():\n",
    "\n",
    "age = 13\n",
    "print \"I am \" + str(age) + \" years old!\"\n",
    "This would print:\n",
    "\n",
    ">>> \"I am 13 years old!\"\n",
    "Similarly, if we have a string like \"7\" and we want to perform arithmetic operations on it, \n",
    "we must convert it to a numeric datatype. We can do this using int():\n",
    "\n",
    "number1 = \"100\"\n",
    "number2 = \"10\"\n",
    "\n",
    "string_addition = number1 + number2 \n",
    "#string_addition now has a value of \"10010\"\n",
    "\n",
    "int_addition = int(number1) + int(number2)\n",
    "#int_addition has a value of 110\n",
    "If you use int() on a floating point number, it will round the number down. To preserve the \n",
    "decimal, you can use float():\n",
    "\n",
    "string_num = \"7.5\"\n",
    "print int(string_num)\n",
    "print float(string_num)\n",
    ">>> 7\n",
    ">>> 7.5\n",
    "Instructions\n",
    "1.\n",
    "Create a variable called product that contains the result of multiplying the float value of float_1 and float_2.\n",
    "\n",
    "2.\n",
    "Create a string called big_string that says:\n",
    "\n",
    "The product was X\n",
    "with the value of product where the X is.\n",
    "'''"
   ]
  },
  {
   "cell_type": "code",
   "execution_count": null,
   "metadata": {
    "collapsed": true
   },
   "outputs": [],
   "source": [
    "float_1 = 0.25\n",
    "float_2 = 40.0"
   ]
  },
  {
   "cell_type": "code",
   "execution_count": null,
   "metadata": {
    "collapsed": true
   },
   "outputs": [],
   "source": [
    "'''\n",
    "PYTHON SYNTAX\n",
    "Review\n",
    "Great! So far we’ve looked at:\n",
    "\n",
    "Print statements\n",
    "How to create, modify, and use variables\n",
    "Arithmetic operations like addition, subtraction, division, and multiplication\n",
    "How to use comments to make your code easy to understand\n",
    "Different data types, including strings, ints, floats, and booleans\n",
    "Converting between data types\n",
    "Instructions\n",
    "1.\n",
    "Let's apply all of the concepts you have learned one more time!\n",
    "\n",
    "Create a variable called skill_completed and set it equal to the string \"Python Syntax\".\n",
    "\n",
    "2.\n",
    "Create a variable called exercises_completed and set it equal to 13. Create another \n",
    "variable called points_per_exercise and set it equal to 5.\n",
    "\n",
    "3.\n",
    "Create a variable called point_total and set it equal to 100.\n",
    "\n",
    "4.\n",
    "Update point_total to be what it was before plus the result of multiplying exercises_completed\n",
    "and points_per_exercise.\n",
    "\n",
    "5.\n",
    "Add a comment above your declaration of points_per_exercise that says:\n",
    "\n",
    "The amount of points for each exercise may change, because points don't exist yet\n",
    "6.\n",
    "Print a string to the console that says:\n",
    "\n",
    "I got X points!\n",
    "with the value of point_total where X is.\n",
    "'''"
   ]
  },
  {
   "cell_type": "code",
   "execution_count": null,
   "metadata": {
    "collapsed": true
   },
   "outputs": [],
   "source": [
    "'''\n",
    "STRINGS & CONSOLE OUTPUT\n",
    "Strings\n",
    "Another useful data type is the string. A string can contain letters, numbers, and symbols.\n",
    "\n",
    "name = \"Ryan\"\n",
    "age = \"19\"\n",
    "food = \"cheese\"\n",
    "In the above example, we create a variable name and set it to the string value \"Ryan\".\n",
    "We also set age to \"19\" and food to \"cheese\".\n",
    "Strings need to be within quotes.\n",
    "\n",
    "Instructions\n",
    "1.\n",
    "Create a new variable brian and assign it the string \"Hello life!\".\n",
    "'''"
   ]
  },
  {
   "cell_type": "code",
   "execution_count": null,
   "metadata": {
    "collapsed": true
   },
   "outputs": [],
   "source": []
  },
  {
   "cell_type": "code",
   "execution_count": null,
   "metadata": {
    "collapsed": true
   },
   "outputs": [],
   "source": [
    "'''\n",
    "STRINGS & CONSOLE OUTPUT\n",
    "Practice\n",
    "Excellent! Let's get a little practice in with strings.\n",
    "\n",
    "Instructions\n",
    "1.\n",
    "Set the following variables to their respective phrases:\n",
    "\n",
    "Set caesar to \"Graham\"\n",
    "Set praline to \"John\"\n",
    "Set viking to \"Teresa\"\n",
    "'''"
   ]
  },
  {
   "cell_type": "code",
   "execution_count": null,
   "metadata": {
    "collapsed": true
   },
   "outputs": [],
   "source": [
    "# Assign your variables below, each on its own line!\n",
    "\n",
    "\n",
    "\n",
    "\n",
    "\n",
    "# Put your variables above this line\n",
    "\n",
    "print(caesar)\n",
    "print(praline)\n",
    "print(viking)"
   ]
  }
 ],
 "metadata": {
  "kernelspec": {
   "display_name": "Python 3",
   "language": "python",
   "name": "python3"
  },
  "language_info": {
   "codemirror_mode": {
    "name": "ipython",
    "version": 3
   },
   "file_extension": ".py",
   "mimetype": "text/x-python",
   "name": "python",
   "nbconvert_exporter": "python",
   "pygments_lexer": "ipython3",
   "version": "3.6.3"
  }
 },
 "nbformat": 4,
 "nbformat_minor": 2
}
